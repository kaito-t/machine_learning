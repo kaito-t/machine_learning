{
  "nbformat": 4,
  "nbformat_minor": 0,
  "metadata": {
    "colab": {
      "name": "Pythonで学ぶ高校数学(集合).ipynb",
      "provenance": []
    },
    "kernelspec": {
      "name": "python3",
      "display_name": "Python 3"
    }
  },
  "cells": [
    {
      "cell_type": "markdown",
      "metadata": {
        "id": "8kvQPHbJCRDb"
      },
      "source": [
        "**集合を扱う**"
      ]
    },
    {
      "cell_type": "code",
      "metadata": {
        "id": "q85leHSeCWNR"
      },
      "source": [
        "A = {1, 2, 3, 4, 5, 6, 7, 8, 9, 10} #集合A"
      ],
      "execution_count": 1,
      "outputs": []
    },
    {
      "cell_type": "code",
      "metadata": {
        "colab": {
          "base_uri": "https://localhost:8080/"
        },
        "id": "kLS2cCOrCeSS",
        "outputId": "b8f1a20f-fc9f-4415-955b-8ba56f72de22"
      },
      "source": [
        "B = {1, 3, 2, 5, 4, 6, 7, 10, 9, 8} #集合B\n",
        "A == B"
      ],
      "execution_count": 2,
      "outputs": [
        {
          "output_type": "execute_result",
          "data": {
            "text/plain": [
              "True"
            ]
          },
          "metadata": {
            "tags": []
          },
          "execution_count": 2
        }
      ]
    },
    {
      "cell_type": "code",
      "metadata": {
        "colab": {
          "base_uri": "https://localhost:8080/"
        },
        "id": "B0PTaHLaCu4o",
        "outputId": "0f254ca7-d0ee-4d8a-d753-a7455375e962"
      },
      "source": [
        "A"
      ],
      "execution_count": 3,
      "outputs": [
        {
          "output_type": "execute_result",
          "data": {
            "text/plain": [
              "{1, 2, 3, 4, 5, 6, 7, 8, 9, 10}"
            ]
          },
          "metadata": {
            "tags": []
          },
          "execution_count": 3
        }
      ]
    },
    {
      "cell_type": "code",
      "metadata": {
        "colab": {
          "base_uri": "https://localhost:8080/"
        },
        "id": "61whNI_CC16Z",
        "outputId": "b5d44622-ff54-496a-a5b7-b4062b509bc1"
      },
      "source": [
        "#集合Aの要素数を調べる\n",
        "len(A)"
      ],
      "execution_count": 4,
      "outputs": [
        {
          "output_type": "execute_result",
          "data": {
            "text/plain": [
              "10"
            ]
          },
          "metadata": {
            "tags": []
          },
          "execution_count": 4
        }
      ]
    },
    {
      "cell_type": "code",
      "metadata": {
        "colab": {
          "base_uri": "https://localhost:8080/"
        },
        "id": "dXLdYUnXDOgt",
        "outputId": "072a2fb9-f718-446b-f129-49615a4b14ea"
      },
      "source": [
        "B = {3, 5, 7, 9, 11} \n",
        "B <= U #集合BがUに含まれるか確認"
      ],
      "execution_count": 13,
      "outputs": [
        {
          "output_type": "execute_result",
          "data": {
            "text/plain": [
              "False"
            ]
          },
          "metadata": {
            "tags": []
          },
          "execution_count": 13
        }
      ]
    },
    {
      "cell_type": "code",
      "metadata": {
        "colab": {
          "base_uri": "https://localhost:8080/"
        },
        "id": "BoC6HQxTEvFp",
        "outputId": "cbbd5f07-f845-4517-afb0-974a055071a7"
      },
      "source": [
        "A = {2, 4, 6, 8, 10} #集合Aを定義\n",
        "B = {3, 6, 9}        #集合Bを定義\n",
        "A & B"
      ],
      "execution_count": 15,
      "outputs": [
        {
          "output_type": "execute_result",
          "data": {
            "text/plain": [
              "{6}"
            ]
          },
          "metadata": {
            "tags": []
          },
          "execution_count": 15
        }
      ]
    },
    {
      "cell_type": "code",
      "metadata": {
        "colab": {
          "base_uri": "https://localhost:8080/"
        },
        "id": "JnXvEBcLE9a3",
        "outputId": "34f97ac2-08a1-478f-b1ec-a88b73b069f1"
      },
      "source": [
        "A = {1, 3, 5, 7, 9} #集合Aを定義\n",
        "B = {2, 4, 6}       #集合Bを定義\n",
        "A | B               #集合Aと集合Bの和集合"
      ],
      "execution_count": 16,
      "outputs": [
        {
          "output_type": "execute_result",
          "data": {
            "text/plain": [
              "{1, 2, 3, 4, 5, 6, 7, 9}"
            ]
          },
          "metadata": {
            "tags": []
          },
          "execution_count": 16
        }
      ]
    },
    {
      "cell_type": "code",
      "metadata": {
        "colab": {
          "base_uri": "https://localhost:8080/"
        },
        "id": "gh_9tFrgFQue",
        "outputId": "8d163f80-0ac7-4b35-8fbf-c795a392f01b"
      },
      "source": [
        "A = {2, 4, 6, 8, 10} #集合Aを定義\n",
        "B = {3, 6, 9}        #集合Bを定義\n",
        "A - B"
      ],
      "execution_count": 17,
      "outputs": [
        {
          "output_type": "execute_result",
          "data": {
            "text/plain": [
              "{2, 4, 8, 10}"
            ]
          },
          "metadata": {
            "tags": []
          },
          "execution_count": 17
        }
      ]
    },
    {
      "cell_type": "code",
      "metadata": {
        "colab": {
          "base_uri": "https://localhost:8080/"
        },
        "id": "9GXkFYClFdA3",
        "outputId": "47593ae1-642d-4108-d345-93ba15ed38d6"
      },
      "source": [
        "B - A"
      ],
      "execution_count": 18,
      "outputs": [
        {
          "output_type": "execute_result",
          "data": {
            "text/plain": [
              "{3, 9}"
            ]
          },
          "metadata": {
            "tags": []
          },
          "execution_count": 18
        }
      ]
    },
    {
      "cell_type": "code",
      "metadata": {
        "colab": {
          "base_uri": "https://localhost:8080/"
        },
        "id": "gd54b1bnGQU-",
        "outputId": "9a41091d-c993-46cb-f2ba-4022abc44634"
      },
      "source": [
        "import itertools\n",
        "num = {1, 2, 3, 4, 5} #データを定義\n",
        "A = set(itertools.permutations(num, 3))#numの中から3個選ぶ順列で集合を生成\n",
        "len(A) #Aの要素数を調べる"
      ],
      "execution_count": 21,
      "outputs": [
        {
          "output_type": "execute_result",
          "data": {
            "text/plain": [
              "60"
            ]
          },
          "metadata": {
            "tags": []
          },
          "execution_count": 21
        }
      ]
    },
    {
      "cell_type": "code",
      "metadata": {
        "colab": {
          "base_uri": "https://localhost:8080/"
        },
        "id": "Bgza1vGPGqXL",
        "outputId": "ad152d82-ca71-4265-c7c1-f51782065d2c"
      },
      "source": [
        "for a in A: #A全要素にアクセスするループ\n",
        "  print(a)"
      ],
      "execution_count": 22,
      "outputs": [
        {
          "output_type": "stream",
          "text": [
            "(2, 3, 5)\n",
            "(3, 5, 4)\n",
            "(1, 5, 3)\n",
            "(1, 3, 2)\n",
            "(5, 3, 4)\n",
            "(4, 3, 5)\n",
            "(1, 5, 2)\n",
            "(4, 3, 2)\n",
            "(1, 4, 5)\n",
            "(3, 4, 1)\n",
            "(1, 4, 2)\n",
            "(5, 2, 1)\n",
            "(5, 1, 4)\n",
            "(2, 4, 1)\n",
            "(3, 4, 2)\n",
            "(1, 4, 3)\n",
            "(2, 3, 1)\n",
            "(4, 3, 1)\n",
            "(5, 2, 3)\n",
            "(2, 4, 3)\n",
            "(3, 1, 5)\n",
            "(3, 1, 4)\n",
            "(5, 4, 2)\n",
            "(2, 4, 5)\n",
            "(4, 1, 5)\n",
            "(4, 5, 1)\n",
            "(5, 4, 3)\n",
            "(5, 1, 3)\n",
            "(3, 1, 2)\n",
            "(4, 5, 2)\n",
            "(2, 5, 3)\n",
            "(5, 1, 2)\n",
            "(3, 2, 1)\n",
            "(2, 1, 4)\n",
            "(4, 5, 3)\n",
            "(5, 4, 1)\n",
            "(1, 2, 3)\n",
            "(2, 1, 5)\n",
            "(2, 5, 1)\n",
            "(4, 2, 5)\n",
            "(1, 2, 4)\n",
            "(3, 5, 2)\n",
            "(5, 3, 2)\n",
            "(3, 2, 4)\n",
            "(2, 1, 3)\n",
            "(1, 2, 5)\n",
            "(4, 1, 2)\n",
            "(3, 5, 1)\n",
            "(1, 5, 4)\n",
            "(5, 3, 1)\n",
            "(3, 2, 5)\n",
            "(2, 5, 4)\n",
            "(4, 1, 3)\n",
            "(4, 2, 1)\n",
            "(1, 3, 5)\n",
            "(5, 2, 4)\n",
            "(1, 3, 4)\n",
            "(3, 4, 5)\n",
            "(2, 3, 4)\n",
            "(4, 2, 3)\n"
          ],
          "name": "stdout"
        }
      ]
    },
    {
      "cell_type": "code",
      "metadata": {
        "colab": {
          "base_uri": "https://localhost:8080/"
        },
        "id": "m-6fMVo8Jl4e",
        "outputId": "2f9d67f0-10a1-4821-cf05-7657426f17bc"
      },
      "source": [
        "#階乗\n",
        "num = {1, 2, 3, 4, 5}  #データを定義\n",
        "A = set(itertools.permutations(num, 5)) #numの中から5個を選ぶ順列\n",
        "len(A)"
      ],
      "execution_count": 23,
      "outputs": [
        {
          "output_type": "execute_result",
          "data": {
            "text/plain": [
              "120"
            ]
          },
          "metadata": {
            "tags": []
          },
          "execution_count": 23
        }
      ]
    },
    {
      "cell_type": "code",
      "metadata": {
        "colab": {
          "base_uri": "https://localhost:8080/"
        },
        "id": "cGwGe3w9J7QN",
        "outputId": "11b2833d-c703-4a82-e86f-b6c4e0955411"
      },
      "source": [
        "import math\n",
        "math.factorial(5) #5の階乗を求める"
      ],
      "execution_count": 24,
      "outputs": [
        {
          "output_type": "execute_result",
          "data": {
            "text/plain": [
              "120"
            ]
          },
          "metadata": {
            "tags": []
          },
          "execution_count": 24
        }
      ]
    },
    {
      "cell_type": "code",
      "metadata": {
        "colab": {
          "base_uri": "https://localhost:8080/"
        },
        "id": "wZUYY0qIKE9K",
        "outputId": "3800a7a6-5bc1-4fe5-a8ed-4f6166c59e9e"
      },
      "source": [
        "#重複順列\n",
        "num = {1, 2, 3, 4, 5, 6} #データを定義\n",
        "A = set(itertools.product(num, num, num)) #numから3個選ぶ重複順列\n",
        "len(A)\n",
        "\n",
        "for a in A:\n",
        "  print(a)"
      ],
      "execution_count": 25,
      "outputs": [
        {
          "output_type": "stream",
          "text": [
            "(4, 2, 2)\n",
            "(1, 4, 4)\n",
            "(2, 2, 4)\n",
            "(5, 5, 1)\n",
            "(5, 2, 1)\n",
            "(1, 4, 2)\n",
            "(5, 5, 3)\n",
            "(3, 1, 6)\n",
            "(5, 2, 3)\n",
            "(5, 5, 5)\n",
            "(3, 1, 4)\n",
            "(2, 6, 5)\n",
            "(3, 2, 2)\n",
            "(4, 1, 5)\n",
            "(3, 1, 2)\n",
            "(2, 6, 3)\n",
            "(6, 5, 5)\n",
            "(2, 5, 3)\n",
            "(4, 4, 2)\n",
            "(1, 2, 2)\n",
            "(6, 6, 3)\n",
            "(2, 6, 1)\n",
            "(6, 5, 3)\n",
            "(3, 2, 6)\n",
            "(2, 5, 1)\n",
            "(4, 6, 1)\n",
            "(4, 1, 1)\n",
            "(1, 2, 4)\n",
            "(6, 6, 1)\n",
            "(5, 3, 2)\n",
            "(1, 5, 5)\n",
            "(6, 5, 1)\n",
            "(3, 2, 4)\n",
            "(4, 6, 3)\n",
            "(4, 1, 3)\n",
            "(1, 2, 6)\n",
            "(2, 5, 5)\n",
            "(4, 6, 5)\n",
            "(1, 3, 5)\n",
            "(6, 3, 1)\n",
            "(4, 3, 6)\n",
            "(6, 6, 5)\n",
            "(5, 3, 6)\n",
            "(1, 5, 1)\n",
            "(3, 4, 5)\n",
            "(2, 3, 4)\n",
            "(1, 3, 3)\n",
            "(6, 3, 3)\n",
            "(4, 3, 4)\n",
            "(5, 6, 2)\n",
            "(5, 3, 4)\n",
            "(1, 5, 3)\n",
            "(2, 3, 6)\n",
            "(1, 3, 1)\n",
            "(6, 3, 5)\n",
            "(4, 3, 2)\n",
            "(5, 6, 4)\n",
            "(6, 4, 4)\n",
            "(3, 3, 1)\n",
            "(5, 1, 5)\n",
            "(3, 4, 1)\n",
            "(6, 2, 6)\n",
            "(5, 6, 6)\n",
            "(6, 4, 6)\n",
            "(3, 3, 3)\n",
            "(3, 4, 3)\n",
            "(2, 3, 2)\n",
            "(6, 2, 4)\n",
            "(6, 1, 2)\n",
            "(3, 3, 5)\n",
            "(2, 4, 2)\n",
            "(5, 1, 1)\n",
            "(3, 6, 6)\n",
            "(6, 2, 2)\n",
            "(5, 4, 3)\n",
            "(1, 6, 4)\n",
            "(6, 4, 2)\n",
            "(5, 1, 3)\n",
            "(2, 4, 4)\n",
            "(3, 6, 4)\n",
            "(4, 5, 2)\n",
            "(6, 1, 6)\n",
            "(5, 4, 1)\n",
            "(1, 6, 6)\n",
            "(2, 4, 6)\n",
            "(3, 6, 2)\n",
            "(2, 1, 5)\n",
            "(4, 5, 4)\n",
            "(4, 2, 5)\n",
            "(6, 1, 4)\n",
            "(3, 5, 2)\n",
            "(2, 2, 3)\n",
            "(4, 5, 6)\n",
            "(2, 1, 3)\n",
            "(5, 4, 5)\n",
            "(1, 6, 2)\n",
            "(2, 2, 1)\n",
            "(4, 4, 5)\n",
            "(2, 1, 1)\n",
            "(4, 2, 1)\n",
            "(1, 1, 2)\n",
            "(5, 2, 4)\n",
            "(3, 5, 6)\n",
            "(4, 4, 3)\n",
            "(4, 2, 3)\n",
            "(1, 1, 4)\n",
            "(5, 2, 6)\n",
            "(3, 5, 4)\n",
            "(2, 2, 5)\n",
            "(4, 4, 1)\n",
            "(1, 1, 6)\n",
            "(1, 4, 5)\n",
            "(5, 2, 2)\n",
            "(1, 4, 3)\n",
            "(5, 5, 2)\n",
            "(3, 1, 5)\n",
            "(2, 6, 6)\n",
            "(6, 5, 6)\n",
            "(1, 4, 1)\n",
            "(4, 1, 4)\n",
            "(5, 5, 4)\n",
            "(3, 1, 3)\n",
            "(2, 6, 4)\n",
            "(6, 5, 4)\n",
            "(3, 2, 3)\n",
            "(2, 5, 2)\n",
            "(4, 1, 6)\n",
            "(1, 2, 1)\n",
            "(5, 5, 6)\n",
            "(3, 1, 1)\n",
            "(2, 6, 2)\n",
            "(6, 5, 2)\n",
            "(3, 2, 1)\n",
            "(1, 2, 3)\n",
            "(6, 6, 2)\n",
            "(5, 3, 3)\n",
            "(2, 5, 6)\n",
            "(4, 1, 2)\n",
            "(1, 2, 5)\n",
            "(5, 3, 1)\n",
            "(1, 5, 4)\n",
            "(3, 2, 5)\n",
            "(2, 5, 4)\n",
            "(4, 6, 2)\n",
            "(1, 3, 6)\n",
            "(6, 6, 6)\n",
            "(1, 5, 6)\n",
            "(3, 4, 4)\n",
            "(4, 6, 4)\n",
            "(1, 3, 4)\n",
            "(6, 3, 2)\n",
            "(5, 6, 1)\n",
            "(6, 6, 4)\n",
            "(5, 3, 5)\n",
            "(3, 4, 6)\n",
            "(2, 3, 5)\n",
            "(4, 6, 6)\n",
            "(1, 3, 2)\n",
            "(6, 3, 4)\n",
            "(4, 3, 5)\n",
            "(5, 6, 3)\n",
            "(6, 4, 5)\n",
            "(1, 5, 2)\n",
            "(6, 3, 6)\n",
            "(4, 3, 3)\n",
            "(5, 6, 5)\n",
            "(5, 1, 4)\n",
            "(2, 4, 1)\n",
            "(3, 4, 2)\n",
            "(2, 3, 1)\n",
            "(6, 2, 5)\n",
            "(4, 3, 1)\n",
            "(6, 4, 1)\n",
            "(3, 3, 2)\n",
            "(2, 4, 3)\n",
            "(5, 1, 6)\n",
            "(2, 3, 3)\n",
            "(6, 2, 3)\n",
            "(6, 1, 3)\n",
            "(5, 4, 2)\n",
            "(6, 4, 3)\n",
            "(3, 3, 4)\n",
            "(2, 4, 5)\n",
            "(4, 5, 1)\n",
            "(2, 1, 6)\n",
            "(6, 2, 1)\n",
            "(6, 1, 1)\n",
            "(1, 6, 5)\n",
            "(3, 3, 6)\n",
            "(5, 1, 2)\n",
            "(3, 6, 5)\n",
            "(2, 1, 4)\n",
            "(4, 5, 3)\n",
            "(5, 4, 6)\n",
            "(3, 5, 3)\n",
            "(3, 6, 3)\n",
            "(2, 1, 2)\n",
            "(4, 5, 5)\n",
            "(4, 2, 4)\n",
            "(1, 1, 1)\n",
            "(6, 1, 5)\n",
            "(5, 4, 4)\n",
            "(1, 6, 1)\n",
            "(3, 5, 1)\n",
            "(2, 2, 2)\n",
            "(4, 4, 6)\n",
            "(3, 6, 1)\n",
            "(4, 2, 6)\n",
            "(1, 1, 3)\n",
            "(1, 6, 3)\n",
            "(4, 4, 4)\n",
            "(1, 1, 5)\n",
            "(5, 2, 5)\n",
            "(1, 4, 6)\n",
            "(3, 5, 5)\n",
            "(2, 2, 6)\n"
          ],
          "name": "stdout"
        }
      ]
    },
    {
      "cell_type": "code",
      "metadata": {
        "colab": {
          "base_uri": "https://localhost:8080/"
        },
        "id": "v0LjTpGLMuek",
        "outputId": "9c88c85d-feeb-42fe-833c-c7185cf8d0b2"
      },
      "source": [
        "#組み合わせ(combination)\n",
        "num = {1, 2, 3, 4, 5} #データを定義\n",
        "A = set(itertools.combinations(num, 3))#numの中から3個選ぶ組み合わせ\n",
        "len(A)"
      ],
      "execution_count": 27,
      "outputs": [
        {
          "output_type": "execute_result",
          "data": {
            "text/plain": [
              "10"
            ]
          },
          "metadata": {
            "tags": []
          },
          "execution_count": 27
        }
      ]
    },
    {
      "cell_type": "code",
      "metadata": {
        "colab": {
          "base_uri": "https://localhost:8080/"
        },
        "id": "D-fAhCbCOCSW",
        "outputId": "208eb048-0a53-41a3-9d93-d6c70c81d7d4"
      },
      "source": [
        "for a in A:\n",
        "  print(a)"
      ],
      "execution_count": 28,
      "outputs": [
        {
          "output_type": "stream",
          "text": [
            "(2, 3, 5)\n",
            "(1, 2, 3)\n",
            "(1, 3, 5)\n",
            "(1, 4, 5)\n",
            "(1, 2, 4)\n",
            "(1, 3, 4)\n",
            "(2, 4, 5)\n",
            "(3, 4, 5)\n",
            "(2, 3, 4)\n",
            "(1, 2, 5)\n"
          ],
          "name": "stdout"
        }
      ]
    },
    {
      "cell_type": "code",
      "metadata": {
        "colab": {
          "base_uri": "https://localhost:8080/"
        },
        "id": "Qyybpm5tOJjH",
        "outputId": "733f1a4c-84b8-42bf-c125-738e4a7c6c36"
      },
      "source": [
        "#サイコロの中から見つける\n",
        "dice = {1, 2, 3, 4, 5, 6} #サイコロの目を定義\n",
        "A = set(itertools.combinations(dice, 2))\n",
        "len(A)"
      ],
      "execution_count": 29,
      "outputs": [
        {
          "output_type": "execute_result",
          "data": {
            "text/plain": [
              "15"
            ]
          },
          "metadata": {
            "tags": []
          },
          "execution_count": 29
        }
      ]
    },
    {
      "cell_type": "code",
      "metadata": {
        "colab": {
          "base_uri": "https://localhost:8080/"
        },
        "id": "HrfmbNhZO8Fd",
        "outputId": "3d19c6b7-1ff6-441d-962a-777c608fec4b"
      },
      "source": [
        "ans = len(A)+ 6 #(1と1 , 2と2 , 3と3 , 4と4 ,5と5 ,6と6,)\n",
        "ans"
      ],
      "execution_count": 31,
      "outputs": [
        {
          "output_type": "execute_result",
          "data": {
            "text/plain": [
              "21"
            ]
          },
          "metadata": {
            "tags": []
          },
          "execution_count": 31
        }
      ]
    },
    {
      "cell_type": "markdown",
      "metadata": {
        "id": "vUwcVz2wEuhe"
      },
      "source": [
        ""
      ]
    },
    {
      "cell_type": "markdown",
      "metadata": {
        "id": "2PvKzqRuCVw4"
      },
      "source": [
        ""
      ]
    }
  ]
}