{
 "cells": [
  {
   "cell_type": "markdown",
   "metadata": {},
   "source": [
    "$$\n",
    "    y = ax\n",
    "$$"
   ]
  },
  {
   "cell_type": "markdown",
   "metadata": {},
   "source": [
    "$$\n",
    "    y_2 = ax^{10} \\quad y_3 = ax \\\\\n",
    "$$"
   ]
  },
  {
   "cell_type": "markdown",
   "metadata": {},
   "source": [
    "## ルート\n",
    "\n",
    "$$\n",
    "    |\\boldsymbol{a}| = \\sqrt{a_0^2+a_1^2}\n",
    "$$"
   ]
  },
  {
   "cell_type": "markdown",
   "metadata": {},
   "source": [
    "## 和&積\n",
    "$$\n",
    "    a = \\sum_{i=0}^{n}2a \\quad\n",
    "    b = \\prod_{i=0}^{n}2b\n",
    "$$"
   ]
  },
  {
   "cell_type": "markdown",
   "metadata": {},
   "source": [
    "## 分数\n",
    "$$\n",
    "    y = \\frac{2}{3}\n",
    "$$"
   ]
  },
  {
   "cell_type": "markdown",
   "metadata": {},
   "source": [
    "## 条件分け\n",
    "$$\n",
    "    ReLU(x) =\n",
    "        \\begin{cases}\n",
    "            x \\quad x \\geqq 0 \\\\\n",
    "            0 \\quad x < 0 \\\\\n",
    "        \\end{cases}\n",
    "$$"
   ]
  },
  {
   "cell_type": "markdown",
   "metadata": {},
   "source": [
    "## 点線\n",
    "\n",
    "$$\n",
    "    \\boldsymbol{A} =\n",
    "        \\left[\\begin{array}{ccc}\n",
    "            a_{0,0} & \\cdots & a_{0,x} \\\\\n",
    "            \\vdots  & \\ddots & \\vdots \\\\\n",
    "            a_{y,0} & \\cdots & a_{y,x} \\\\\n",
    "        \\end{array}\\right]\n",
    "$$"
   ]
  },
  {
   "cell_type": "markdown",
   "metadata": {},
   "source": [
    "## 最小二乗法\n",
    "\n",
    "$$\n",
    "    E(θ) = \\frac{1}{2} \\sum_{i=1}^{n}(y^{(i)}-f_θ(x^{(i)}))^2\n",
    "$$"
   ]
  },
  {
   "cell_type": "markdown",
   "metadata": {},
   "source": [
    "## 編微分の更新式\n",
    "\n",
    "$$\n",
    "    θ_0:=θ_0 - η \\frac {∂E}{∂θ_0}   \n",
    "$$\n",
    "\n",
    "$$\n",
    "    θ_1:=θ_1 - η \\frac {∂E}{∂θ_1}   \n",
    "$$"
   ]
  },
  {
   "cell_type": "code",
   "execution_count": null,
   "metadata": {},
   "outputs": [],
   "source": []
  }
 ],
 "metadata": {
  "kernelspec": {
   "display_name": "Python 3",
   "language": "python",
   "name": "python3"
  },
  "language_info": {
   "codemirror_mode": {
    "name": "ipython",
    "version": 3
   },
   "file_extension": ".py",
   "mimetype": "text/x-python",
   "name": "python",
   "nbconvert_exporter": "python",
   "pygments_lexer": "ipython3",
   "version": "3.7.6"
  }
 },
 "nbformat": 4,
 "nbformat_minor": 4
}
